{
 "cells": [
  {
   "cell_type": "markdown",
   "metadata": {},
   "source": [
    "# Autodesk Moldflow automation tutorial \n",
    "\n",
    "Autodesk Moldflow is a popular injection molding software. The Autodesk Moldflow Synergy GUI is able to record user macros for automation as Visual Basic Scripts (*.vbs). However, we may want to integrate this automation with a Python workflow. We could start subprocesses to call Moldflow with a *.vbs script, but it is a much more seamless experience to control Moldflow directly from Python. Luckily, that is possible and this Notebook illustrates how it is done. "
   ]
  },
  {
   "cell_type": "markdown",
   "metadata": {},
   "source": [
    "## 1 - Prerequisites \n",
    "\n",
    "First of all, you need a functioning Moldflow Insight installation with an active license purchased from [Autodesk](https://www.autodesk.com/products/moldflow/). Note that Moldflow Synergy is available for Microsoft Windows only.\n",
    "\n",
    "In addition, you'll need a Python installation and must install the pywin32 package via pip or conda to the Python environment:\n",
    "```\n",
    "pip install pywin32\n",
    "conda install pywin32\n",
    "```\n",
    "\n",
    "If you want to follow along with this interactive Notebook, make sure to restart the kernel to ensure that `pywin32` is available."
   ]
  },
  {
   "cell_type": "markdown",
   "metadata": {},
   "source": [
    "## 2 - Start Moldflow Synergy GUI from Python\n",
    "\n",
    "Once the prerequisites are met, you can fire up a Moldflow Synergy GUI instance with two simples lines of code. You may execute them directly with this cell:"
   ]
  },
  {
   "cell_type": "code",
   "execution_count": null,
   "metadata": {},
   "outputs": [],
   "source": [
    "# Import win32com.client module from pywin32 to use COM (Component Object Model)\n",
    "import win32com.client\n",
    "\n",
    "# Create Moldflow Synergy instance\n",
    "Synergy = win32com.client.Dispatch(\"synergy.Synergy\")\n",
    "\n",
    "# Set the units to metric\n",
    "Synergy.SetUnits(\"Metric\")"
   ]
  },
  {
   "cell_type": "markdown",
   "metadata": {},
   "source": [
    "This should open a Moldflow Synergy Window on your machine. Pretty cool, isn´t it? In a next step, we learn how to interact with this Window and automate modifications to the model. "
   ]
  },
  {
   "cell_type": "markdown",
   "metadata": {},
   "source": [
    "## 3 - Convert VBS to Python Code \n",
    "\n",
    "The easiest way to continue from here is the creation of a regular VBS macro in Moldflow Synergy. This is done via the menu `Tools` and the button `Record Macro` in the `Automation` Ribbon. \n",
    "\n",
    "Once activated, you can apply modifications in the GUI. Try opening an existing Moldflow project of yours and make some simple modifications like changing the material. After your are finished with the modifications, the recording is stopped with the button `Stop Recording`. A prompt appears to specify a path where to save the *vbs macro. \n",
    "\n",
    "This *.vbs file may look like this: \n",
    "\n",
    "```vb\n",
    "'%RunPerInstance\n",
    "'@ DESCRIPTION\n",
    "'@ Macro recorded by Synergy on XX-XXX-XXXX at XX:XX:XX\n",
    "SetLocale(\"en-us\")\n",
    "Dim SynergyGetter, Synergy\n",
    "On Error Resume Next\n",
    "Set SynergyGetter = GetObject(CreateObject(\"WScript.Shell\").ExpandEnvironmentStrings(\"%SAInstance%\"))\n",
    "On Error GoTo 0\n",
    "If (Not IsEmpty(SynergyGetter)) Then\n",
    "\tSet Synergy = SynergyGetter.GetSASynergy\n",
    "Else\n",
    "\tSet Synergy = CreateObject(\"synergy.Synergy\")\n",
    "End If\n",
    "Synergy.SetUnits \"Metric\"\n",
    "...\n",
    "```\n",
    "\n",
    "The first 14 lines of this script are always identical and create a Moldflow Synergy instance. This is equivalent to what we have done in the Python lines in Section 2. To translate the following lines to Python, we need to follow these simple rules: \n",
    "1. Place function arguments in regular brackets. \n",
    "2. Remove all `Set` statements and trailing regular brackets after referencing objects.\n",
    "3. Insert a `=`, where values are assigned to variables.\n",
    "\n",
    "This is illustrated best with a couple of examples:"
   ]
  },
  {
   "cell_type": "markdown",
   "metadata": {},
   "source": [
    "### 3.1 Import geometries and meshing \n",
    "\n",
    "the recorded VBS macro for importing and meshing an STL file looks like this: \n",
    "\n",
    "```vb \n",
    "'...\n",
    "Set ImpOpts = Synergy.ImportOptions()\n",
    "ImpOpts.MeshType \"3D\"\n",
    "ImpOpts.Units \"mm\"\n",
    "'...\n",
    "Set Project = Synergy.Project()\n",
    "Synergy.ImportFile \"examples\\stl\\disk.stl\", ImpOpts, False\n",
    "\n",
    "```\n",
    "\n",
    "This can be converted to Python like this: "
   ]
  },
  {
   "cell_type": "code",
   "execution_count": null,
   "metadata": {},
   "outputs": [],
   "source": [
    "# Rule 2\n",
    "ImpOpts = Synergy.ImportOptions \n",
    "# Rule 3\n",
    "ImpOpts.MeshType = \"3D\" \n",
    "# Rule 3\n",
    "ImpOpts.Units = \"mm\" \n",
    "# Rule 1\n",
    "Synergy.ImportFile(\"examples\\stl\\disk.stl\", ImpOpts, False) "
   ]
  },
  {
   "cell_type": "markdown",
   "metadata": {},
   "source": [
    "### 3.2 Changing the material\n",
    "\n",
    "The recorded VBS macro for changing the molding material looks like this: \n",
    "\n",
    "```vb \n",
    "'...\n",
    "Set MatSel = Synergy.MaterialSelector()\n",
    "MatSel.Select \"Covestro.21000.udb\", \"System\", 14261, 0\n",
    "```\n",
    "\n",
    "This can be converted to Python like this:"
   ]
  },
  {
   "cell_type": "code",
   "execution_count": null,
   "metadata": {},
   "outputs": [],
   "source": [
    "MatSel = Synergy.MaterialSelector\n",
    "MatSel.Select(\"Covestro.21000.udb\", \"System\", 14261, 0)"
   ]
  },
  {
   "cell_type": "markdown",
   "metadata": {},
   "source": [
    "### 3.3. Create an injection gate at a specific node\n",
    "\n",
    "The recorded VBS macro for creating an injection gate at a specific node ID looks like this:\n",
    "\n",
    "```vb \n",
    "'...\n",
    "Set BoundaryConditions = Synergy.BoundaryConditions()\n",
    "Set Vector = Synergy.CreateVector()\n",
    "Set EntList = BoundaryConditions.CreateEntityList()\n",
    "EntList.SelectFromString \"N1276 \"\n",
    "Vector.SetXYZ 0, 0, 1\n",
    "Set EntList_1 = BoundaryConditions.CreateNDBC(EntList, Vector, 40000, Nothing)\n",
    "```\n",
    "\n",
    "This can be converted to Python like this:"
   ]
  },
  {
   "cell_type": "code",
   "execution_count": null,
   "metadata": {},
   "outputs": [],
   "source": [
    "import pythoncom \n",
    "\n",
    "BoundaryConditions = Synergy.BoundaryConditions\n",
    "Vector = Synergy.CreateVector\n",
    "EntList = BoundaryConditions.CreateEntityList\n",
    "EntList.SelectFromString(\"N1276 \")\n",
    "Vector.SetXYZ(0, 0, 1)\n",
    "EntList_1 = BoundaryConditions.CreateNDBC(EntList, Vector, 40000, pythoncom.Nothing)"
   ]
  },
  {
   "cell_type": "markdown",
   "metadata": {},
   "source": [
    "Note that we used pythoncom's Nothing object to pass a uninitialized empty object to the function. "
   ]
  },
  {
   "cell_type": "markdown",
   "metadata": {},
   "source": [
    "## 4 Known limitations and workarounds \n",
    "\n",
    "One issue in automating Moldflow via Python is that some actions (meshing, executing an analysis) call the Moldflow Insight solver. This creates a GUI prompt, where you have to select wether the run should be performed in the cloud, on a remote machine or your local machine. Unfortunately, this prompt cannot be easily answered via the automation script and may be the reason that your script fails to execute completely. However, there are some workarounds:"
   ]
  },
  {
   "cell_type": "markdown",
   "metadata": {},
   "source": [
    "### 4.1 Meshing\n",
    "\n",
    "Meshing of CAD geometries typically leads to a stall of your Python code - probably because the CAD kernel needs Moldflow Insight. However, you can work around this issue by importing a triangulated surface mesh format, such as STL. "
   ]
  },
  {
   "cell_type": "markdown",
   "metadata": {},
   "source": [
    "### 4.2 Submitting a job \n",
    "\n",
    "Submitting a job triggers the mentioned selection prompt. However, you can work around this by saving the model to a *.sdy file and executing this file as a subprocess:"
   ]
  },
  {
   "cell_type": "code",
   "execution_count": null,
   "metadata": {},
   "outputs": [],
   "source": [
    "import subprocess\n",
    "import os \n",
    "\n",
    "# Adapt this path to your system\n",
    "\n",
    "MOLDFLOW_PATH = \"C:/Program Files/Autodesk/Moldflow Insight 2023/bin\"\n",
    "\n",
    "# Save the *.sdy file\n",
    "StudyDoc = Synergy.StudyDoc\n",
    "StudyDoc.Save\n",
    "\n",
    "# Start the study as subprocess\n",
    "p = subprocess.Popen(\n",
    "    [os.path.join(MOLDFLOW_PATH, \"runstudy.exe\"), \"disk_study.sdy\"],\n",
    "    stdout=subprocess.PIPE,\n",
    "    stderr=subprocess.STDOUT,\n",
    ")\n",
    "(output, err) = p.communicate()\n",
    "\n",
    "# Write the output to a log file\n",
    "with open(\"disk_study.log\", \"w\") as file:\n",
    "    file.write(output.decode(\"windows-1252\").strip())"
   ]
  }
 ],
 "metadata": {
  "kernelspec": {
   "display_name": "torchfem",
   "language": "python",
   "name": "python3"
  },
  "language_info": {
   "codemirror_mode": {
    "name": "ipython",
    "version": 3
   },
   "file_extension": ".py",
   "mimetype": "text/x-python",
   "name": "python",
   "nbconvert_exporter": "python",
   "pygments_lexer": "ipython3",
   "version": "3.10.13"
  }
 },
 "nbformat": 4,
 "nbformat_minor": 2
}
