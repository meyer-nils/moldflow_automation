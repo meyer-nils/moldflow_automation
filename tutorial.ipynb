{
 "cells": [
  {
   "cell_type": "markdown",
   "metadata": {},
   "source": [
    "# Autodesk Moldflow automation tutorial \n",
    "\n",
    "Autodesk Moldflow is a popular injection molding software. The Autodesk Moldflow Synergy GUI is able to record user macros for automation as Visual Basic Scripts (*.vbs). However, we may want to integrate this automation with a Python workflow. We could start subprocesses to call Moldflow with a *.vbs script, but it is a much more seamless experience to control Moldflow directly from Python. Luckily, that is possible and this Notebook illustrates how it is done. "
   ]
  },
  {
   "cell_type": "markdown",
   "metadata": {},
   "source": [
    "## 01 - Prerequisites \n",
    "\n",
    "First of all, we need a functioning Moldflow Insight installation with an active license purchased from [Autodesk](https://www.autodesk.com/products/moldflow/). Note that Moldflow Synergy is available for Microsoft Windows only.\n",
    "\n",
    "In addition, we need to install the pywin32 package via pip or conda:\n",
    "```\n",
    "pip install pywin32\n",
    "conda install pywin32\n",
    "```"
   ]
  },
  {
   "cell_type": "markdown",
   "metadata": {},
   "source": [
    "## 02 - Start Moldflow Synergy GUI from Python\n",
    "\n",
    "Once the prequesites are met, we can fire up a Moldflow Synergy GUI instance with two simples lines of code: "
   ]
  },
  {
   "cell_type": "code",
   "execution_count": null,
   "metadata": {},
   "outputs": [],
   "source": [
    "# Import win32com.client module from pywin32 to use COM (Component Object Model)\n",
    "import win32com.client\n",
    "\n",
    "# Create Moldflow Synergy instance\n",
    "Synergy = win32com.client.Dispatch(\"synergy.Synergy\")"
   ]
  },
  {
   "cell_type": "markdown",
   "metadata": {},
   "source": [
    "This should open a Moldflow Synergy Window on your machine. Pretty cool, isn´t it? In a next step, we learn how to interact with this Window and automate modifications to the model. "
   ]
  },
  {
   "cell_type": "markdown",
   "metadata": {},
   "source": [
    "## 03 - Convert VBS to Python Code \n",
    "\n",
    "The easiest way to continue from here is the creation of a regular VBS macro in Moldflow Synergy. "
   ]
  },
  {
   "cell_type": "code",
   "execution_count": null,
   "metadata": {},
   "outputs": [],
   "source": []
  }
 ],
 "metadata": {
  "kernelspec": {
   "display_name": "torchfem",
   "language": "python",
   "name": "python3"
  },
  "language_info": {
   "codemirror_mode": {
    "name": "ipython",
    "version": 3
   },
   "file_extension": ".py",
   "mimetype": "text/x-python",
   "name": "python",
   "nbconvert_exporter": "python",
   "pygments_lexer": "ipython3",
   "version": "3.10.13"
  }
 },
 "nbformat": 4,
 "nbformat_minor": 2
}
